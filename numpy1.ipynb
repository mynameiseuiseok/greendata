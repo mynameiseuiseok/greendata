{
 "cells": [
  {
   "cell_type": "markdown",
   "id": "a5dffb7d",
   "metadata": {},
   "source": [
    "### Numpy : Numerical Python\n",
    "\n",
    "#### 수치계산용 파이썬 라이브러리"
   ]
  },
  {
   "cell_type": "code",
   "execution_count": 2,
   "id": "ad0e0f12",
   "metadata": {},
   "outputs": [
    {
     "data": {
      "text/plain": [
       "array([3, 5, 7])"
      ]
     },
     "execution_count": 2,
     "metadata": {},
     "output_type": "execute_result"
    }
   ],
   "source": [
    "import numpy as np\n",
    "\n",
    "# 넘파이 배열(리스트) 생성하기\n",
    "a = np.arange(10)\n",
    "a\n",
    "\n",
    "a2 = np.arange(3, 9)\n",
    "a2  # 3, 4, 5, 6, 7, 8\n",
    "\n",
    "a3 = np.arange(3, 9, 2)\n",
    "a3  # 3, 5, 7"
   ]
  },
  {
   "cell_type": "code",
   "execution_count": 7,
   "id": "3647c2f1",
   "metadata": {},
   "outputs": [
    {
     "name": "stdout",
     "output_type": "stream",
     "text": [
      "[1. 2. 3. 4.]\n",
      "float64\n"
     ]
    }
   ],
   "source": [
    "# 넘파이 배열(리스트) 생성하기\n",
    "# np.array() 함수 사용\n",
    "b = [1.0, 2, 3, 4]\n",
    "arr = np.array(b)\n",
    "arr\n",
    "print(arr)\n",
    "print(arr.dtype)"
   ]
  },
  {
   "cell_type": "code",
   "execution_count": 5,
   "id": "c4626ec7",
   "metadata": {},
   "outputs": [
    {
     "name": "stdout",
     "output_type": "stream",
     "text": [
      "['봄' '여름' '가을' '겨울']\n",
      "<U2\n"
     ]
    }
   ],
   "source": [
    "import numpy as np\n",
    "\n",
    "c = ['봄', '여름', '가을', '겨울']\n",
    "arr2 = np.array(c)\n",
    "arr2\n",
    "print(arr2)\n",
    "print(arr2.dtype)"
   ]
  },
  {
   "cell_type": "code",
   "execution_count": 18,
   "id": "e238a969",
   "metadata": {},
   "outputs": [
    {
     "name": "stdout",
     "output_type": "stream",
     "text": [
      "10\n"
     ]
    }
   ],
   "source": [
    "import numpy as np\n",
    "\n",
    "순위 = 1 + np.arange(10) # 1 + (0~9)\n",
    "팀 = np.array(['SSG', '롯데', 'LG', 'NC', 'KIA', '삼성', '두산', '키움', '한화', 'KT'])\n",
    "승 = np.array([22, 17, 20, 17, 14, 14, 14, 14, 11, 8])\n",
    "패 = np.array([11, 10, 12, 14, 14, 16, 16, 19, 19, 20])\n",
    "무 = np.array([0, 0, 0, 0, 0, 0, 1, 0, 1, 2])\n",
    "승률 = np.array([0.667, 0.630, 0.625, 0.548, 0.500, 0.467, 0.467, 0.424, 0.367, 0.286])              \n",
    "# print(팀)\n",
    "# print(승)\n",
    "print(len(팀))\n",
    "\n",
    "with open(\"datas/2023kbo.txt\", 'w') as f:\n",
    "    f.write(\"========== 2023 KBO리그 성적표 ==========\\n\")\n",
    "    head = \"순위\\t팀\\t승\\t패\\t무\\t승률\"\n",
    "    f.write(head)\n",
    "    f.write('\\n')\n",
    "    for i in range(len(팀)): # 10번 반복\n",
    "        txt = f'{순위[i]}\\t{팀[i]}\\t{승[i]}\\t{패[i]}\\t{무[i]}\\t{승률[i]}\\n' #'\\n' 줄바꿈\n",
    "        f.write(txt)"
   ]
  },
  {
   "cell_type": "code",
   "execution_count": 19,
   "id": "70fc818b",
   "metadata": {},
   "outputs": [
    {
     "name": "stdout",
     "output_type": "stream",
     "text": [
      "========== 2023 KBO리그 성적표 ==========\n",
      "순위\t팀\t승\t패\t무\t승률\n",
      "1\tSSG\t22\t11\t0\t0.667\n",
      "2\t롯데\t17\t10\t0\t0.63\n",
      "3\tLG\t20\t12\t0\t0.625\n",
      "4\tNC\t17\t14\t0\t0.548\n",
      "5\tKIA\t14\t14\t0\t0.5\n",
      "6\t삼성\t14\t16\t0\t0.467\n",
      "7\t두산\t14\t16\t1\t0.467\n",
      "8\t키움\t14\t19\t0\t0.424\n",
      "9\t한화\t11\t19\t1\t0.367\n",
      "10\tKT\t8\t20\t2\t0.286\n",
      "\n"
     ]
    }
   ],
   "source": [
    "with open(\"datas/2023kbo.txt\", 'r') as f:\n",
    "    data = f.read()\n",
    "    print(data)"
   ]
  },
  {
   "cell_type": "markdown",
   "id": "44fb867f",
   "metadata": {},
   "source": [
    "### 넘파이의 N차원 배열\n",
    "#### 1차원 배열은 벡터(vector)라 함\n",
    "#### 2차원 배열은 행렬(matrix) - 수 또는 문자를 괄호안에 직사각형 형태로 배열\n",
    "#### 3차원 배열은 텐서(tensor)라 함"
   ]
  },
  {
   "cell_type": "code",
   "execution_count": 27,
   "id": "311da733",
   "metadata": {},
   "outputs": [
    {
     "name": "stdout",
     "output_type": "stream",
     "text": [
      "[1 2]\n",
      "4\n",
      "[3 0]\n",
      "[0 6]\n"
     ]
    }
   ],
   "source": [
    "A = np.array([[1, 2], [3, 4]])\n",
    "B = np.array([[3, 0], [0, 6]])\n",
    "# print(A)\n",
    "# print(A.shape) #(2,2) -> 2행 2열\n",
    "# print(B)\n",
    "# print(B.shape)\n",
    "\n",
    "# 인덱싱\n",
    "print(A[0])\n",
    "print(A[1][1])\n",
    "\n",
    "# 전체 조회\n",
    "for row in B:\n",
    "    print(row)\n",
    "\n",
    "# 연산\n",
    "# print(A+B)\n",
    "# print(A-B)\n",
    "# print(A*B)\n",
    "# print(A/B)"
   ]
  },
  {
   "cell_type": "code",
   "execution_count": null,
   "id": "c76e7446",
   "metadata": {},
   "outputs": [],
   "source": []
  }
 ],
 "metadata": {
  "kernelspec": {
   "display_name": "Python 3 (ipykernel)",
   "language": "python",
   "name": "python3"
  },
  "language_info": {
   "codemirror_mode": {
    "name": "ipython",
    "version": 3
   },
   "file_extension": ".py",
   "mimetype": "text/x-python",
   "name": "python",
   "nbconvert_exporter": "python",
   "pygments_lexer": "ipython3",
   "version": "3.10.9"
  }
 },
 "nbformat": 4,
 "nbformat_minor": 5
}
