{
 "cells": [
  {
   "cell_type": "markdown",
   "id": "550a7cd7",
   "metadata": {},
   "source": [
    "## 운동(practice) 데이터 프레임 만들기"
   ]
  },
  {
   "cell_type": "code",
   "execution_count": 8,
   "id": "474e601c",
   "metadata": {},
   "outputs": [
    {
     "data": {
      "text/html": [
       "<div>\n",
       "<style scoped>\n",
       "    .dataframe tbody tr th:only-of-type {\n",
       "        vertical-align: middle;\n",
       "    }\n",
       "\n",
       "    .dataframe tbody tr th {\n",
       "        vertical-align: top;\n",
       "    }\n",
       "\n",
       "    .dataframe thead th {\n",
       "        text-align: right;\n",
       "    }\n",
       "</style>\n",
       "<table border=\"1\" class=\"dataframe\">\n",
       "  <thead>\n",
       "    <tr style=\"text-align: right;\">\n",
       "      <th></th>\n",
       "      <th>날짜</th>\n",
       "      <th>운동</th>\n",
       "      <th>운동량</th>\n",
       "    </tr>\n",
       "  </thead>\n",
       "  <tbody>\n",
       "  </tbody>\n",
       "</table>\n",
       "</div>"
      ],
      "text/plain": [
       "Empty DataFrame\n",
       "Columns: [날짜, 운동, 운동량]\n",
       "Index: []"
      ]
     },
     "execution_count": 8,
     "metadata": {},
     "output_type": "execute_result"
    }
   ],
   "source": [
    "import pandas as pd\n",
    "\n",
    "practice = pd.DataFrame({\n",
    "    '날짜':[],\n",
    "    '운동':[],\n",
    "    '운동량':[]\n",
    "})\n",
    "practice"
   ]
  },
  {
   "cell_type": "code",
   "execution_count": 9,
   "id": "68e8a4bd",
   "metadata": {},
   "outputs": [
    {
     "data": {
      "text/html": [
       "<div>\n",
       "<style scoped>\n",
       "    .dataframe tbody tr th:only-of-type {\n",
       "        vertical-align: middle;\n",
       "    }\n",
       "\n",
       "    .dataframe tbody tr th {\n",
       "        vertical-align: top;\n",
       "    }\n",
       "\n",
       "    .dataframe thead th {\n",
       "        text-align: right;\n",
       "    }\n",
       "</style>\n",
       "<table border=\"1\" class=\"dataframe\">\n",
       "  <thead>\n",
       "    <tr style=\"text-align: right;\">\n",
       "      <th></th>\n",
       "      <th>날짜</th>\n",
       "      <th>운동</th>\n",
       "      <th>운동량</th>\n",
       "    </tr>\n",
       "  </thead>\n",
       "  <tbody>\n",
       "    <tr>\n",
       "      <th>0</th>\n",
       "      <td>23-3-1</td>\n",
       "      <td>달리기</td>\n",
       "      <td>1</td>\n",
       "    </tr>\n",
       "  </tbody>\n",
       "</table>\n",
       "</div>"
      ],
      "text/plain": [
       "       날짜   운동  운동량\n",
       "0  23-3-1  달리기    1"
      ]
     },
     "execution_count": 9,
     "metadata": {},
     "output_type": "execute_result"
    }
   ],
   "source": [
    "# 데이터 추가, 변경 - loc()\n",
    "practice.loc[0] = ['23-3-1', '달리기', 1]\n",
    "\n",
    "practice"
   ]
  },
  {
   "cell_type": "code",
   "execution_count": 10,
   "id": "a4289dd2",
   "metadata": {},
   "outputs": [
    {
     "data": {
      "text/html": [
       "<div>\n",
       "<style scoped>\n",
       "    .dataframe tbody tr th:only-of-type {\n",
       "        vertical-align: middle;\n",
       "    }\n",
       "\n",
       "    .dataframe tbody tr th {\n",
       "        vertical-align: top;\n",
       "    }\n",
       "\n",
       "    .dataframe thead th {\n",
       "        text-align: right;\n",
       "    }\n",
       "</style>\n",
       "<table border=\"1\" class=\"dataframe\">\n",
       "  <thead>\n",
       "    <tr style=\"text-align: right;\">\n",
       "      <th></th>\n",
       "      <th>날짜</th>\n",
       "      <th>운동</th>\n",
       "      <th>운동량</th>\n",
       "    </tr>\n",
       "  </thead>\n",
       "  <tbody>\n",
       "    <tr>\n",
       "      <th>0</th>\n",
       "      <td>23-3-1</td>\n",
       "      <td>달리기</td>\n",
       "      <td>1</td>\n",
       "    </tr>\n",
       "    <tr>\n",
       "      <th>1</th>\n",
       "      <td>23-3-1</td>\n",
       "      <td>걷기</td>\n",
       "      <td>1</td>\n",
       "    </tr>\n",
       "    <tr>\n",
       "      <th>2</th>\n",
       "      <td>23-3-2</td>\n",
       "      <td>달리기</td>\n",
       "      <td>1</td>\n",
       "    </tr>\n",
       "    <tr>\n",
       "      <th>3</th>\n",
       "      <td>23-3-2</td>\n",
       "      <td>계단오르기</td>\n",
       "      <td>1</td>\n",
       "    </tr>\n",
       "  </tbody>\n",
       "</table>\n",
       "</div>"
      ],
      "text/plain": [
       "       날짜     운동  운동량\n",
       "0  23-3-1    달리기    1\n",
       "1  23-3-1     걷기    1\n",
       "2  23-3-2    달리기    1\n",
       "3  23-3-2  계단오르기    1"
      ]
     },
     "execution_count": 10,
     "metadata": {},
     "output_type": "execute_result"
    }
   ],
   "source": [
    "practice.loc[1] = ['23-3-1', '걷기', 1]\n",
    "practice.loc[2] = ['23-3-2', '달리기', 1]\n",
    "practice.loc[3] = ['23-3-2', '계단오르기', 1]\n",
    "practice"
   ]
  },
  {
   "cell_type": "code",
   "execution_count": 11,
   "id": "6d0859c3",
   "metadata": {},
   "outputs": [
    {
     "data": {
      "text/html": [
       "<div>\n",
       "<style scoped>\n",
       "    .dataframe tbody tr th:only-of-type {\n",
       "        vertical-align: middle;\n",
       "    }\n",
       "\n",
       "    .dataframe tbody tr th {\n",
       "        vertical-align: top;\n",
       "    }\n",
       "\n",
       "    .dataframe thead th {\n",
       "        text-align: right;\n",
       "    }\n",
       "</style>\n",
       "<table border=\"1\" class=\"dataframe\">\n",
       "  <thead>\n",
       "    <tr style=\"text-align: right;\">\n",
       "      <th></th>\n",
       "      <th>날짜</th>\n",
       "      <th>운동</th>\n",
       "      <th>운동량</th>\n",
       "    </tr>\n",
       "  </thead>\n",
       "  <tbody>\n",
       "    <tr>\n",
       "      <th>0</th>\n",
       "      <td>23-3-1</td>\n",
       "      <td>달리기</td>\n",
       "      <td>1.0</td>\n",
       "    </tr>\n",
       "    <tr>\n",
       "      <th>1</th>\n",
       "      <td>23-3-1</td>\n",
       "      <td>걷기</td>\n",
       "      <td>1.0</td>\n",
       "    </tr>\n",
       "    <tr>\n",
       "      <th>2</th>\n",
       "      <td>23-3-2</td>\n",
       "      <td>달리기</td>\n",
       "      <td>1.0</td>\n",
       "    </tr>\n",
       "    <tr>\n",
       "      <th>3</th>\n",
       "      <td>23-3-2</td>\n",
       "      <td>계단오르기</td>\n",
       "      <td>1.0</td>\n",
       "    </tr>\n",
       "    <tr>\n",
       "      <th>4</th>\n",
       "      <td>23-3-3</td>\n",
       "      <td>걷기</td>\n",
       "      <td>1.5</td>\n",
       "    </tr>\n",
       "    <tr>\n",
       "      <th>5</th>\n",
       "      <td>23-3-3</td>\n",
       "      <td>달리기</td>\n",
       "      <td>1.0</td>\n",
       "    </tr>\n",
       "  </tbody>\n",
       "</table>\n",
       "</div>"
      ],
      "text/plain": [
       "       날짜     운동  운동량\n",
       "0  23-3-1    달리기  1.0\n",
       "1  23-3-1     걷기  1.0\n",
       "2  23-3-2    달리기  1.0\n",
       "3  23-3-2  계단오르기  1.0\n",
       "4  23-3-3     걷기  1.5\n",
       "5  23-3-3    달리기  1.0"
      ]
     },
     "execution_count": 11,
     "metadata": {},
     "output_type": "execute_result"
    }
   ],
   "source": [
    "practice.loc[4] = ['23-3-3', '걷기', 1.5]\n",
    "practice.loc[5] = ['23-3-3', '달리기', 1]\n",
    "practice"
   ]
  },
  {
   "cell_type": "code",
   "execution_count": 12,
   "id": "24da9e59",
   "metadata": {},
   "outputs": [
    {
     "data": {
      "text/html": [
       "<div>\n",
       "<style scoped>\n",
       "    .dataframe tbody tr th:only-of-type {\n",
       "        vertical-align: middle;\n",
       "    }\n",
       "\n",
       "    .dataframe tbody tr th {\n",
       "        vertical-align: top;\n",
       "    }\n",
       "\n",
       "    .dataframe thead th {\n",
       "        text-align: right;\n",
       "    }\n",
       "</style>\n",
       "<table border=\"1\" class=\"dataframe\">\n",
       "  <thead>\n",
       "    <tr style=\"text-align: right;\">\n",
       "      <th></th>\n",
       "      <th>날짜</th>\n",
       "      <th>운동</th>\n",
       "      <th>운동량</th>\n",
       "    </tr>\n",
       "  </thead>\n",
       "  <tbody>\n",
       "    <tr>\n",
       "      <th>0</th>\n",
       "      <td>23-3-1</td>\n",
       "      <td>달리기</td>\n",
       "      <td>1.0</td>\n",
       "    </tr>\n",
       "    <tr>\n",
       "      <th>1</th>\n",
       "      <td>23-3-1</td>\n",
       "      <td>걷기</td>\n",
       "      <td>1.0</td>\n",
       "    </tr>\n",
       "    <tr>\n",
       "      <th>2</th>\n",
       "      <td>23-3-2</td>\n",
       "      <td>달리기</td>\n",
       "      <td>1.0</td>\n",
       "    </tr>\n",
       "    <tr>\n",
       "      <th>3</th>\n",
       "      <td>23-3-2</td>\n",
       "      <td>계단오르기</td>\n",
       "      <td>1.0</td>\n",
       "    </tr>\n",
       "    <tr>\n",
       "      <th>4</th>\n",
       "      <td>23-3-3</td>\n",
       "      <td>걷기</td>\n",
       "      <td>1.5</td>\n",
       "    </tr>\n",
       "    <tr>\n",
       "      <th>5</th>\n",
       "      <td>23-3-3</td>\n",
       "      <td>달리기</td>\n",
       "      <td>1.0</td>\n",
       "    </tr>\n",
       "    <tr>\n",
       "      <th>6</th>\n",
       "      <td>23-3-3</td>\n",
       "      <td>걷기</td>\n",
       "      <td>1.5</td>\n",
       "    </tr>\n",
       "    <tr>\n",
       "      <th>7</th>\n",
       "      <td>23-3-3</td>\n",
       "      <td>달리기</td>\n",
       "      <td>1.0</td>\n",
       "    </tr>\n",
       "  </tbody>\n",
       "</table>\n",
       "</div>"
      ],
      "text/plain": [
       "       날짜     운동  운동량\n",
       "0  23-3-1    달리기  1.0\n",
       "1  23-3-1     걷기  1.0\n",
       "2  23-3-2    달리기  1.0\n",
       "3  23-3-2  계단오르기  1.0\n",
       "4  23-3-3     걷기  1.5\n",
       "5  23-3-3    달리기  1.0\n",
       "6  23-3-3     걷기  1.5\n",
       "7  23-3-3    달리기  1.0"
      ]
     },
     "execution_count": 12,
     "metadata": {},
     "output_type": "execute_result"
    }
   ],
   "source": [
    "practice.loc[6] = ['23-3-3', '걷기', 1.5]\n",
    "practice.loc[7] = ['23-3-3', '달리기', 1]\n",
    "practice"
   ]
  },
  {
   "cell_type": "code",
   "execution_count": 13,
   "id": "6f62e531",
   "metadata": {},
   "outputs": [
    {
     "data": {
      "text/html": [
       "<div>\n",
       "<style scoped>\n",
       "    .dataframe tbody tr th:only-of-type {\n",
       "        vertical-align: middle;\n",
       "    }\n",
       "\n",
       "    .dataframe tbody tr th {\n",
       "        vertical-align: top;\n",
       "    }\n",
       "\n",
       "    .dataframe thead th {\n",
       "        text-align: right;\n",
       "    }\n",
       "</style>\n",
       "<table border=\"1\" class=\"dataframe\">\n",
       "  <thead>\n",
       "    <tr style=\"text-align: right;\">\n",
       "      <th></th>\n",
       "      <th>날짜</th>\n",
       "      <th>운동</th>\n",
       "      <th>운동량</th>\n",
       "    </tr>\n",
       "  </thead>\n",
       "  <tbody>\n",
       "    <tr>\n",
       "      <th>0</th>\n",
       "      <td>23-3-1</td>\n",
       "      <td>달리기</td>\n",
       "      <td>1.0</td>\n",
       "    </tr>\n",
       "    <tr>\n",
       "      <th>1</th>\n",
       "      <td>23-3-1</td>\n",
       "      <td>걷기</td>\n",
       "      <td>1.0</td>\n",
       "    </tr>\n",
       "    <tr>\n",
       "      <th>2</th>\n",
       "      <td>23-3-2</td>\n",
       "      <td>달리기</td>\n",
       "      <td>1.0</td>\n",
       "    </tr>\n",
       "    <tr>\n",
       "      <th>3</th>\n",
       "      <td>23-3-2</td>\n",
       "      <td>계단오르기</td>\n",
       "      <td>1.0</td>\n",
       "    </tr>\n",
       "    <tr>\n",
       "      <th>4</th>\n",
       "      <td>23-3-3</td>\n",
       "      <td>걷기</td>\n",
       "      <td>1.5</td>\n",
       "    </tr>\n",
       "    <tr>\n",
       "      <th>5</th>\n",
       "      <td>23-3-3</td>\n",
       "      <td>달리기</td>\n",
       "      <td>1.0</td>\n",
       "    </tr>\n",
       "    <tr>\n",
       "      <th>6</th>\n",
       "      <td>23-3-4</td>\n",
       "      <td>걷기</td>\n",
       "      <td>1.5</td>\n",
       "    </tr>\n",
       "    <tr>\n",
       "      <th>7</th>\n",
       "      <td>23-3-5</td>\n",
       "      <td>달리기</td>\n",
       "      <td>1.0</td>\n",
       "    </tr>\n",
       "    <tr>\n",
       "      <th>8</th>\n",
       "      <td>23-3-6</td>\n",
       "      <td>걷기</td>\n",
       "      <td>2.5</td>\n",
       "    </tr>\n",
       "    <tr>\n",
       "      <th>9</th>\n",
       "      <td>23-3-6</td>\n",
       "      <td>달리기</td>\n",
       "      <td>0.5</td>\n",
       "    </tr>\n",
       "  </tbody>\n",
       "</table>\n",
       "</div>"
      ],
      "text/plain": [
       "       날짜     운동  운동량\n",
       "0  23-3-1    달리기  1.0\n",
       "1  23-3-1     걷기  1.0\n",
       "2  23-3-2    달리기  1.0\n",
       "3  23-3-2  계단오르기  1.0\n",
       "4  23-3-3     걷기  1.5\n",
       "5  23-3-3    달리기  1.0\n",
       "6  23-3-4     걷기  1.5\n",
       "7  23-3-5    달리기  1.0\n",
       "8  23-3-6     걷기  2.5\n",
       "9  23-3-6    달리기  0.5"
      ]
     },
     "execution_count": 13,
     "metadata": {},
     "output_type": "execute_result"
    }
   ],
   "source": [
    "practice.loc[6] = ['23-3-4', '걷기', 1.5]\n",
    "practice.loc[7] = ['23-3-5', '달리기', 1]\n",
    "practice.loc[8] = ['23-3-6', '걷기', 2.5]\n",
    "practice.loc[9] = ['23-3-6', '달리기', 0.5]\n",
    "practice"
   ]
  },
  {
   "cell_type": "code",
   "execution_count": 16,
   "id": "b8486114",
   "metadata": {},
   "outputs": [
    {
     "data": {
      "text/html": [
       "<div>\n",
       "<style scoped>\n",
       "    .dataframe tbody tr th:only-of-type {\n",
       "        vertical-align: middle;\n",
       "    }\n",
       "\n",
       "    .dataframe tbody tr th {\n",
       "        vertical-align: top;\n",
       "    }\n",
       "\n",
       "    .dataframe thead th {\n",
       "        text-align: right;\n",
       "    }\n",
       "</style>\n",
       "<table border=\"1\" class=\"dataframe\">\n",
       "  <thead>\n",
       "    <tr style=\"text-align: right;\">\n",
       "      <th></th>\n",
       "      <th>날짜</th>\n",
       "      <th>운동</th>\n",
       "      <th>운동량</th>\n",
       "    </tr>\n",
       "  </thead>\n",
       "  <tbody>\n",
       "    <tr>\n",
       "      <th>0</th>\n",
       "      <td>23-3-1</td>\n",
       "      <td>달리기</td>\n",
       "      <td>1.0</td>\n",
       "    </tr>\n",
       "    <tr>\n",
       "      <th>1</th>\n",
       "      <td>23-3-1</td>\n",
       "      <td>걷기</td>\n",
       "      <td>1.0</td>\n",
       "    </tr>\n",
       "    <tr>\n",
       "      <th>2</th>\n",
       "      <td>23-3-2</td>\n",
       "      <td>달리기</td>\n",
       "      <td>1.0</td>\n",
       "    </tr>\n",
       "    <tr>\n",
       "      <th>3</th>\n",
       "      <td>23-3-2</td>\n",
       "      <td>계단오르기</td>\n",
       "      <td>1.0</td>\n",
       "    </tr>\n",
       "    <tr>\n",
       "      <th>4</th>\n",
       "      <td>23-3-3</td>\n",
       "      <td>걷기</td>\n",
       "      <td>1.5</td>\n",
       "    </tr>\n",
       "    <tr>\n",
       "      <th>5</th>\n",
       "      <td>23-3-3</td>\n",
       "      <td>달리기</td>\n",
       "      <td>1.0</td>\n",
       "    </tr>\n",
       "    <tr>\n",
       "      <th>6</th>\n",
       "      <td>23-3-4</td>\n",
       "      <td>걷기</td>\n",
       "      <td>1.5</td>\n",
       "    </tr>\n",
       "    <tr>\n",
       "      <th>7</th>\n",
       "      <td>23-3-5</td>\n",
       "      <td>달리기</td>\n",
       "      <td>1.0</td>\n",
       "    </tr>\n",
       "    <tr>\n",
       "      <th>8</th>\n",
       "      <td>23-3-6</td>\n",
       "      <td>걷기</td>\n",
       "      <td>2.5</td>\n",
       "    </tr>\n",
       "    <tr>\n",
       "      <th>9</th>\n",
       "      <td>23-3-6</td>\n",
       "      <td>달리기</td>\n",
       "      <td>0.5</td>\n",
       "    </tr>\n",
       "  </tbody>\n",
       "</table>\n",
       "</div>"
      ],
      "text/plain": [
       "       날짜     운동  운동량\n",
       "0  23-3-1    달리기  1.0\n",
       "1  23-3-1     걷기  1.0\n",
       "2  23-3-2    달리기  1.0\n",
       "3  23-3-2  계단오르기  1.0\n",
       "4  23-3-3     걷기  1.5\n",
       "5  23-3-3    달리기  1.0\n",
       "6  23-3-4     걷기  1.5\n",
       "7  23-3-5    달리기  1.0\n",
       "8  23-3-6     걷기  2.5\n",
       "9  23-3-6    달리기  0.5"
      ]
     },
     "execution_count": 16,
     "metadata": {},
     "output_type": "execute_result"
    }
   ],
   "source": [
    "practice.pivot_table(index='운동', values='운동량', aggfunc='sum') #합계\n",
    "practice"
   ]
  },
  {
   "cell_type": "code",
   "execution_count": 17,
   "id": "f719d107",
   "metadata": {},
   "outputs": [
    {
     "data": {
      "text/html": [
       "<div>\n",
       "<style scoped>\n",
       "    .dataframe tbody tr th:only-of-type {\n",
       "        vertical-align: middle;\n",
       "    }\n",
       "\n",
       "    .dataframe tbody tr th {\n",
       "        vertical-align: top;\n",
       "    }\n",
       "\n",
       "    .dataframe thead th {\n",
       "        text-align: right;\n",
       "    }\n",
       "</style>\n",
       "<table border=\"1\" class=\"dataframe\">\n",
       "  <thead>\n",
       "    <tr style=\"text-align: right;\">\n",
       "      <th></th>\n",
       "      <th>날짜</th>\n",
       "      <th>운동량</th>\n",
       "    </tr>\n",
       "    <tr>\n",
       "      <th>운동</th>\n",
       "      <th></th>\n",
       "      <th></th>\n",
       "    </tr>\n",
       "  </thead>\n",
       "  <tbody>\n",
       "    <tr>\n",
       "      <th>달리기</th>\n",
       "      <td>23-3-1</td>\n",
       "      <td>1.0</td>\n",
       "    </tr>\n",
       "    <tr>\n",
       "      <th>걷기</th>\n",
       "      <td>23-3-1</td>\n",
       "      <td>1.0</td>\n",
       "    </tr>\n",
       "    <tr>\n",
       "      <th>달리기</th>\n",
       "      <td>23-3-2</td>\n",
       "      <td>1.0</td>\n",
       "    </tr>\n",
       "    <tr>\n",
       "      <th>계단오르기</th>\n",
       "      <td>23-3-2</td>\n",
       "      <td>1.0</td>\n",
       "    </tr>\n",
       "    <tr>\n",
       "      <th>걷기</th>\n",
       "      <td>23-3-3</td>\n",
       "      <td>1.5</td>\n",
       "    </tr>\n",
       "    <tr>\n",
       "      <th>달리기</th>\n",
       "      <td>23-3-3</td>\n",
       "      <td>1.0</td>\n",
       "    </tr>\n",
       "    <tr>\n",
       "      <th>걷기</th>\n",
       "      <td>23-3-4</td>\n",
       "      <td>1.5</td>\n",
       "    </tr>\n",
       "    <tr>\n",
       "      <th>달리기</th>\n",
       "      <td>23-3-5</td>\n",
       "      <td>1.0</td>\n",
       "    </tr>\n",
       "    <tr>\n",
       "      <th>걷기</th>\n",
       "      <td>23-3-6</td>\n",
       "      <td>2.5</td>\n",
       "    </tr>\n",
       "    <tr>\n",
       "      <th>달리기</th>\n",
       "      <td>23-3-6</td>\n",
       "      <td>0.5</td>\n",
       "    </tr>\n",
       "  </tbody>\n",
       "</table>\n",
       "</div>"
      ],
      "text/plain": [
       "           날짜  운동량\n",
       "운동                \n",
       "달리기    23-3-1  1.0\n",
       "걷기     23-3-1  1.0\n",
       "달리기    23-3-2  1.0\n",
       "계단오르기  23-3-2  1.0\n",
       "걷기     23-3-3  1.5\n",
       "달리기    23-3-3  1.0\n",
       "걷기     23-3-4  1.5\n",
       "달리기    23-3-5  1.0\n",
       "걷기     23-3-6  2.5\n",
       "달리기    23-3-6  0.5"
      ]
     },
     "execution_count": 17,
     "metadata": {},
     "output_type": "execute_result"
    }
   ],
   "source": [
    "practice.set_index('운동')"
   ]
  },
  {
   "cell_type": "code",
   "execution_count": 18,
   "id": "49f1980b",
   "metadata": {},
   "outputs": [
    {
     "data": {
      "text/html": [
       "<div>\n",
       "<style scoped>\n",
       "    .dataframe tbody tr th:only-of-type {\n",
       "        vertical-align: middle;\n",
       "    }\n",
       "\n",
       "    .dataframe tbody tr th {\n",
       "        vertical-align: top;\n",
       "    }\n",
       "\n",
       "    .dataframe thead th {\n",
       "        text-align: right;\n",
       "    }\n",
       "</style>\n",
       "<table border=\"1\" class=\"dataframe\">\n",
       "  <thead>\n",
       "    <tr style=\"text-align: right;\">\n",
       "      <th></th>\n",
       "      <th>운동량</th>\n",
       "    </tr>\n",
       "    <tr>\n",
       "      <th>운동</th>\n",
       "      <th></th>\n",
       "    </tr>\n",
       "  </thead>\n",
       "  <tbody>\n",
       "    <tr>\n",
       "      <th>걷기</th>\n",
       "      <td>6.5</td>\n",
       "    </tr>\n",
       "    <tr>\n",
       "      <th>계단오르기</th>\n",
       "      <td>1.0</td>\n",
       "    </tr>\n",
       "    <tr>\n",
       "      <th>달리기</th>\n",
       "      <td>4.5</td>\n",
       "    </tr>\n",
       "  </tbody>\n",
       "</table>\n",
       "</div>"
      ],
      "text/plain": [
       "       운동량\n",
       "운동        \n",
       "걷기     6.5\n",
       "계단오르기  1.0\n",
       "달리기    4.5"
      ]
     },
     "execution_count": 18,
     "metadata": {},
     "output_type": "execute_result"
    }
   ],
   "source": [
    "practice.pivot_table(index='운동', values='운동량', aggfunc='sum')"
   ]
  },
  {
   "cell_type": "code",
   "execution_count": 19,
   "id": "3a87b328",
   "metadata": {},
   "outputs": [
    {
     "data": {
      "text/html": [
       "<div>\n",
       "<style scoped>\n",
       "    .dataframe tbody tr th:only-of-type {\n",
       "        vertical-align: middle;\n",
       "    }\n",
       "\n",
       "    .dataframe tbody tr th {\n",
       "        vertical-align: top;\n",
       "    }\n",
       "\n",
       "    .dataframe thead th {\n",
       "        text-align: right;\n",
       "    }\n",
       "</style>\n",
       "<table border=\"1\" class=\"dataframe\">\n",
       "  <thead>\n",
       "    <tr style=\"text-align: right;\">\n",
       "      <th></th>\n",
       "      <th>운동량</th>\n",
       "    </tr>\n",
       "    <tr>\n",
       "      <th>운동</th>\n",
       "      <th></th>\n",
       "    </tr>\n",
       "  </thead>\n",
       "  <tbody>\n",
       "    <tr>\n",
       "      <th>걷기</th>\n",
       "      <td>1.625</td>\n",
       "    </tr>\n",
       "    <tr>\n",
       "      <th>계단오르기</th>\n",
       "      <td>1.000</td>\n",
       "    </tr>\n",
       "    <tr>\n",
       "      <th>달리기</th>\n",
       "      <td>0.900</td>\n",
       "    </tr>\n",
       "  </tbody>\n",
       "</table>\n",
       "</div>"
      ],
      "text/plain": [
       "         운동량\n",
       "운동          \n",
       "걷기     1.625\n",
       "계단오르기  1.000\n",
       "달리기    0.900"
      ]
     },
     "execution_count": 19,
     "metadata": {},
     "output_type": "execute_result"
    }
   ],
   "source": [
    "practice.pivot_table(index='운동', values='운동량') #평균"
   ]
  },
  {
   "cell_type": "code",
   "execution_count": 20,
   "id": "57dfd5f3",
   "metadata": {},
   "outputs": [],
   "source": [
    "# to_csv() 파일 만들기\n",
    "practice.to_csv('./datas/practice.csv')"
   ]
  },
  {
   "cell_type": "code",
   "execution_count": 21,
   "id": "07607763",
   "metadata": {},
   "outputs": [],
   "source": [
    "practice = practice.set_index('날짜')  # 인덱스를 '날짜'로 설정"
   ]
  },
  {
   "cell_type": "code",
   "execution_count": 22,
   "id": "7042b25f",
   "metadata": {},
   "outputs": [],
   "source": [
    "practice.to_csv('./datas/practice1.csv')"
   ]
  },
  {
   "cell_type": "markdown",
   "id": "3ed7a2c6",
   "metadata": {},
   "source": [
    "### 외부 파일 읽어오기\n",
    "#### pandas 모듈 사용 - pd.read_csv()"
   ]
  },
  {
   "cell_type": "code",
   "execution_count": 23,
   "id": "a4309a02",
   "metadata": {},
   "outputs": [
    {
     "data": {
      "text/html": [
       "<div>\n",
       "<style scoped>\n",
       "    .dataframe tbody tr th:only-of-type {\n",
       "        vertical-align: middle;\n",
       "    }\n",
       "\n",
       "    .dataframe tbody tr th {\n",
       "        vertical-align: top;\n",
       "    }\n",
       "\n",
       "    .dataframe thead th {\n",
       "        text-align: right;\n",
       "    }\n",
       "</style>\n",
       "<table border=\"1\" class=\"dataframe\">\n",
       "  <thead>\n",
       "    <tr style=\"text-align: right;\">\n",
       "      <th></th>\n",
       "      <th>날짜</th>\n",
       "      <th>운동</th>\n",
       "      <th>운동량</th>\n",
       "    </tr>\n",
       "  </thead>\n",
       "  <tbody>\n",
       "    <tr>\n",
       "      <th>0</th>\n",
       "      <td>23-3-1</td>\n",
       "      <td>달리기</td>\n",
       "      <td>1.0</td>\n",
       "    </tr>\n",
       "    <tr>\n",
       "      <th>1</th>\n",
       "      <td>23-3-1</td>\n",
       "      <td>걷기</td>\n",
       "      <td>1.0</td>\n",
       "    </tr>\n",
       "    <tr>\n",
       "      <th>2</th>\n",
       "      <td>23-3-2</td>\n",
       "      <td>달리기</td>\n",
       "      <td>1.0</td>\n",
       "    </tr>\n",
       "    <tr>\n",
       "      <th>3</th>\n",
       "      <td>23-3-2</td>\n",
       "      <td>계단오르기</td>\n",
       "      <td>1.0</td>\n",
       "    </tr>\n",
       "    <tr>\n",
       "      <th>4</th>\n",
       "      <td>23-3-3</td>\n",
       "      <td>걷기</td>\n",
       "      <td>1.5</td>\n",
       "    </tr>\n",
       "    <tr>\n",
       "      <th>5</th>\n",
       "      <td>23-3-3</td>\n",
       "      <td>달리기</td>\n",
       "      <td>1.0</td>\n",
       "    </tr>\n",
       "    <tr>\n",
       "      <th>6</th>\n",
       "      <td>23-3-4</td>\n",
       "      <td>걷기</td>\n",
       "      <td>1.5</td>\n",
       "    </tr>\n",
       "    <tr>\n",
       "      <th>7</th>\n",
       "      <td>23-3-5</td>\n",
       "      <td>달리기</td>\n",
       "      <td>1.0</td>\n",
       "    </tr>\n",
       "    <tr>\n",
       "      <th>8</th>\n",
       "      <td>23-3-6</td>\n",
       "      <td>걷기</td>\n",
       "      <td>2.5</td>\n",
       "    </tr>\n",
       "    <tr>\n",
       "      <th>9</th>\n",
       "      <td>23-3-6</td>\n",
       "      <td>달리기</td>\n",
       "      <td>0.5</td>\n",
       "    </tr>\n",
       "  </tbody>\n",
       "</table>\n",
       "</div>"
      ],
      "text/plain": [
       "       날짜     운동  운동량\n",
       "0  23-3-1    달리기  1.0\n",
       "1  23-3-1     걷기  1.0\n",
       "2  23-3-2    달리기  1.0\n",
       "3  23-3-2  계단오르기  1.0\n",
       "4  23-3-3     걷기  1.5\n",
       "5  23-3-3    달리기  1.0\n",
       "6  23-3-4     걷기  1.5\n",
       "7  23-3-5    달리기  1.0\n",
       "8  23-3-6     걷기  2.5\n",
       "9  23-3-6    달리기  0.5"
      ]
     },
     "execution_count": 23,
     "metadata": {},
     "output_type": "execute_result"
    }
   ],
   "source": [
    "# 외부 파일 읽어오기 - pd.read_csv()\n",
    "exercise = pd.read_csv('./datas/practice1.csv') #column = 0 '날짜'\n",
    "exercise"
   ]
  },
  {
   "cell_type": "code",
   "execution_count": 24,
   "id": "6ca1db06",
   "metadata": {},
   "outputs": [],
   "source": [
    "exercise = pd.read_csv('./datas/practice1.csv', index_col=0) #column = 0 '날짜', column = 1 '운동'"
   ]
  },
  {
   "cell_type": "code",
   "execution_count": 24,
   "id": "21efb41d",
   "metadata": {},
   "outputs": [
    {
     "data": {
      "text/html": [
       "<div>\n",
       "<style scoped>\n",
       "    .dataframe tbody tr th:only-of-type {\n",
       "        vertical-align: middle;\n",
       "    }\n",
       "\n",
       "    .dataframe tbody tr th {\n",
       "        vertical-align: top;\n",
       "    }\n",
       "\n",
       "    .dataframe thead th {\n",
       "        text-align: right;\n",
       "    }\n",
       "</style>\n",
       "<table border=\"1\" class=\"dataframe\">\n",
       "  <thead>\n",
       "    <tr style=\"text-align: right;\">\n",
       "      <th></th>\n",
       "      <th>운동</th>\n",
       "      <th>운동량</th>\n",
       "    </tr>\n",
       "    <tr>\n",
       "      <th>날짜</th>\n",
       "      <th></th>\n",
       "      <th></th>\n",
       "    </tr>\n",
       "  </thead>\n",
       "  <tbody>\n",
       "    <tr>\n",
       "      <th>23-3-1</th>\n",
       "      <td>달리기</td>\n",
       "      <td>1.0</td>\n",
       "    </tr>\n",
       "    <tr>\n",
       "      <th>23-3-1</th>\n",
       "      <td>걷기</td>\n",
       "      <td>1.0</td>\n",
       "    </tr>\n",
       "    <tr>\n",
       "      <th>23-3-2</th>\n",
       "      <td>달리기</td>\n",
       "      <td>1.0</td>\n",
       "    </tr>\n",
       "    <tr>\n",
       "      <th>23-3-2</th>\n",
       "      <td>계단오르기</td>\n",
       "      <td>1.0</td>\n",
       "    </tr>\n",
       "    <tr>\n",
       "      <th>23-3-3</th>\n",
       "      <td>걷기</td>\n",
       "      <td>1.5</td>\n",
       "    </tr>\n",
       "    <tr>\n",
       "      <th>23-3-3</th>\n",
       "      <td>달리기</td>\n",
       "      <td>1.0</td>\n",
       "    </tr>\n",
       "    <tr>\n",
       "      <th>23-3-4</th>\n",
       "      <td>걷기</td>\n",
       "      <td>1.5</td>\n",
       "    </tr>\n",
       "    <tr>\n",
       "      <th>23-3-5</th>\n",
       "      <td>달리기</td>\n",
       "      <td>1.0</td>\n",
       "    </tr>\n",
       "    <tr>\n",
       "      <th>23-3-6</th>\n",
       "      <td>걷기</td>\n",
       "      <td>2.5</td>\n",
       "    </tr>\n",
       "    <tr>\n",
       "      <th>23-3-6</th>\n",
       "      <td>달리기</td>\n",
       "      <td>0.5</td>\n",
       "    </tr>\n",
       "  </tbody>\n",
       "</table>\n",
       "</div>"
      ],
      "text/plain": [
       "           운동  운동량\n",
       "날짜                \n",
       "23-3-1    달리기  1.0\n",
       "23-3-1     걷기  1.0\n",
       "23-3-2    달리기  1.0\n",
       "23-3-2  계단오르기  1.0\n",
       "23-3-3     걷기  1.5\n",
       "23-3-3    달리기  1.0\n",
       "23-3-4     걷기  1.5\n",
       "23-3-5    달리기  1.0\n",
       "23-3-6     걷기  2.5\n",
       "23-3-6    달리기  0.5"
      ]
     },
     "execution_count": 24,
     "metadata": {},
     "output_type": "execute_result"
    }
   ],
   "source": [
    "exercise"
   ]
  },
  {
   "cell_type": "markdown",
   "id": "e204d695",
   "metadata": {},
   "source": [
    "## 깊은 복사와 얕은 복사"
   ]
  },
  {
   "cell_type": "code",
   "execution_count": 25,
   "id": "cadad411",
   "metadata": {},
   "outputs": [
    {
     "data": {
      "text/plain": [
       "[1, 2, 3, 4]"
      ]
     },
     "execution_count": 25,
     "metadata": {},
     "output_type": "execute_result"
    }
   ],
   "source": [
    "# 얕은 복사\n",
    "a = [1, 2, 3, 4]\n",
    "a"
   ]
  },
  {
   "cell_type": "code",
   "execution_count": 27,
   "id": "7f7f21b2",
   "metadata": {},
   "outputs": [
    {
     "data": {
      "text/plain": [
       "[1, 2, 3, 4]"
      ]
     },
     "execution_count": 27,
     "metadata": {},
     "output_type": "execute_result"
    }
   ],
   "source": [
    "# a 리스트를 b에 복사\n",
    "b = a\n",
    "b"
   ]
  },
  {
   "cell_type": "code",
   "execution_count": 28,
   "id": "a6a2d509",
   "metadata": {},
   "outputs": [
    {
     "data": {
      "text/plain": [
       "[1, 10, 3, 4]"
      ]
     },
     "execution_count": 28,
     "metadata": {},
     "output_type": "execute_result"
    }
   ],
   "source": [
    "# 10으로 변경\n",
    "b[1] = 10\n",
    "b"
   ]
  },
  {
   "cell_type": "code",
   "execution_count": 29,
   "id": "903cdeaa",
   "metadata": {},
   "outputs": [
    {
     "data": {
      "text/plain": [
       "[1, 10, 3, 4]"
      ]
     },
     "execution_count": 29,
     "metadata": {},
     "output_type": "execute_result"
    }
   ],
   "source": [
    "# a 출력\n",
    "a"
   ]
  },
  {
   "cell_type": "markdown",
   "id": "6e58c4d2",
   "metadata": {},
   "source": [
    "### 깊은 복사\n",
    "#### 원본을 복사한 후 사본을 변경해도 원본은 변경되지 않음"
   ]
  },
  {
   "cell_type": "code",
   "execution_count": 30,
   "id": "1cbb2561",
   "metadata": {},
   "outputs": [
    {
     "data": {
      "text/plain": [
       "[1, 2, 3, 4]"
      ]
     },
     "execution_count": 30,
     "metadata": {},
     "output_type": "execute_result"
    }
   ],
   "source": [
    "c = [1, 2, 3, 4]\n",
    "c"
   ]
  },
  {
   "cell_type": "code",
   "execution_count": 31,
   "id": "6778e924",
   "metadata": {},
   "outputs": [
    {
     "data": {
      "text/plain": [
       "[1, 2, 3, 4]"
      ]
     },
     "execution_count": 31,
     "metadata": {},
     "output_type": "execute_result"
    }
   ],
   "source": [
    "# copy()를 이용하면 깊은 복사가 됨\n",
    "d = c.copy()\n",
    "d"
   ]
  },
  {
   "cell_type": "code",
   "execution_count": 32,
   "id": "feed4f5e",
   "metadata": {},
   "outputs": [
    {
     "data": {
      "text/plain": [
       "[1, 2, 3, 4]"
      ]
     },
     "execution_count": 32,
     "metadata": {},
     "output_type": "execute_result"
    }
   ],
   "source": [
    "d[1]\n",
    "d"
   ]
  },
  {
   "cell_type": "code",
   "execution_count": 33,
   "id": "a61cf91b",
   "metadata": {},
   "outputs": [
    {
     "data": {
      "text/plain": [
       "[1, 2, 3, 4]"
      ]
     },
     "execution_count": 33,
     "metadata": {},
     "output_type": "execute_result"
    }
   ],
   "source": [
    "# c 출력\n",
    "c"
   ]
  },
  {
   "cell_type": "code",
   "execution_count": null,
   "id": "bf7a9046",
   "metadata": {},
   "outputs": [],
   "source": []
  }
 ],
 "metadata": {
  "kernelspec": {
   "display_name": "Python 3 (ipykernel)",
   "language": "python",
   "name": "python3"
  },
  "language_info": {
   "codemirror_mode": {
    "name": "ipython",
    "version": 3
   },
   "file_extension": ".py",
   "mimetype": "text/x-python",
   "name": "python",
   "nbconvert_exporter": "python",
   "pygments_lexer": "ipython3",
   "version": "3.10.9"
  }
 },
 "nbformat": 4,
 "nbformat_minor": 5
}
